{
 "cells": [
  {
   "cell_type": "code",
   "execution_count": 2,
   "id": "44720bf8",
   "metadata": {},
   "outputs": [
    {
     "name": "stdout",
     "output_type": "stream",
     "text": [
      "Listening for up to 30 seconds...\n",
      "Recognizing...\n",
      "User said: हेलो हेलो मि ऑडिबल\n"
     ]
    },
    {
     "data": {
      "text/plain": [
       "'हेलो हेलो मि ऑडिबल'"
      ]
     },
     "execution_count": 2,
     "metadata": {},
     "output_type": "execute_result"
    }
   ],
   "source": [
    "from gtts import gTTS\n",
    "import pygame\n",
    "import io\n",
    "import speech_recognition as sr\n",
    "\n",
    "def text_to_speech(text:str, lang='en'):\n",
    "    \"\"\"\n",
    "    Generates speech from text and plays it directly without saving a file.\n",
    "    \"\"\"\n",
    "    try:\n",
    "        # Create an in-memory binary stream\n",
    "        with io.BytesIO() as mp3_fp:\n",
    "            # Create the gTTS object and write the audio data to the stream\n",
    "            tts = gTTS(text=text, lang=lang)\n",
    "            tts.write_to_fp(mp3_fp)\n",
    "            \n",
    "            # Rewind the stream to the beginning\n",
    "            mp3_fp.seek(0)\n",
    "            \n",
    "            # Initialize pygame mixer and play the audio\n",
    "            pygame.mixer.init()\n",
    "            pygame.mixer.music.load(mp3_fp)\n",
    "            pygame.mixer.music.play()\n",
    "            \n",
    "            # Wait for the audio to finish playing\n",
    "            while pygame.mixer.music.get_busy():\n",
    "                pygame.time.Clock().tick(10)\n",
    "    \n",
    "    except Exception as e:\n",
    "        print(f\"An error occurred: {e}\")\n",
    "\n",
    "def speech_to_text(lang='hi-IN'):\n",
    "    \"\"\"\n",
    "    Listens to microphone input and converts it to text.\n",
    "    Allows for longer pauses in speech.\n",
    "    \"\"\"\n",
    "    r = sr.Recognizer()\n",
    "    \n",
    "    # Set the pause threshold to 2 seconds. \n",
    "    # The recognizer will wait for 2 seconds of silence before stopping.\n",
    "    r.pause_threshold = 2.0 \n",
    "    \n",
    "    with sr.Microphone() as source:\n",
    "        print(\"Listening for up to 30 seconds...\")\n",
    "        r.adjust_for_ambient_noise(source, duration=0.5)\n",
    "        \n",
    "        # You can also add a timeout and phrase_time_limit\n",
    "        # timeout: how long to wait for speech to start\n",
    "        # phrase_time_limit: maximum length of a single phrase\n",
    "        audio = r.listen(source, timeout=5, phrase_time_limit=30)\n",
    "\n",
    "    try:\n",
    "        print(\"Recognizing...\")\n",
    "        recognized_text = r.recognize_google(audio, language=lang)\n",
    "        print(f\"User said: {recognized_text}\")\n",
    "        return recognized_text.lower()\n",
    "\n",
    "    except sr.UnknownValueError:\n",
    "        print(\"Sorry, I could not understand the audio.\")\n",
    "        return None\n",
    "    except sr.RequestError as e:\n",
    "        print(f\"API Error: {e}\")\n",
    "        return None\n",
    "    except sr.WaitTimeoutError:\n",
    "        print(\"No speech detected within the timeout period.\")\n",
    "        return None\n",
    "speech_to_text()"
   ]
  },
  {
   "cell_type": "code",
   "execution_count": null,
   "id": "e7628047",
   "metadata": {},
   "outputs": [],
   "source": []
  },
  {
   "cell_type": "code",
   "execution_count": null,
   "id": "d47bfe71",
   "metadata": {},
   "outputs": [],
   "source": []
  }
 ],
 "metadata": {
  "kernelspec": {
   "display_name": "AI Hospital",
   "language": "python",
   "name": "python3"
  },
  "language_info": {
   "codemirror_mode": {
    "name": "ipython",
    "version": 3
   },
   "file_extension": ".py",
   "mimetype": "text/x-python",
   "name": "python",
   "nbconvert_exporter": "python",
   "pygments_lexer": "ipython3",
   "version": "3.11.9"
  }
 },
 "nbformat": 4,
 "nbformat_minor": 5
}
